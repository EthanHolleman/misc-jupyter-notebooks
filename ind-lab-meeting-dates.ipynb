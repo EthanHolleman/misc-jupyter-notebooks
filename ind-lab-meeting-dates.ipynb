{
 "cells": [
  {
   "cell_type": "markdown",
   "id": "bf39fd6f",
   "metadata": {},
   "source": [
    "# Calculate potential dates for individual lab meetings"
   ]
  },
  {
   "cell_type": "code",
   "execution_count": 1,
   "id": "806ee531",
   "metadata": {},
   "outputs": [],
   "source": [
    "import calendar\n",
    "import numpy as np\n",
    "import pandas as pd\n",
    "from datetime import datetime"
   ]
  },
  {
   "cell_type": "code",
   "execution_count": 2,
   "id": "6a4b3411",
   "metadata": {},
   "outputs": [],
   "source": [
    "PRESENTERS = [\n",
    "    'Daisy',\n",
    "    'Stella',\n",
    "    'Megan',\n",
    "    'Ethan',\n",
    "    'Talysa'\n",
    "]"
   ]
  },
  {
   "cell_type": "code",
   "execution_count": 3,
   "id": "4ddedf16",
   "metadata": {},
   "outputs": [],
   "source": [
    "WHICH_MEETING = 0  # index of lab meeting (0 = first meeting of month)\n",
    "START_MONTH = 2  # month to start having individual lab meetings\n",
    "YEAR = 2022\n",
    "START_TIME = \"2:00 PM\"\n",
    "END_TIME = \"4:00 PM\""
   ]
  },
  {
   "cell_type": "code",
   "execution_count": 4,
   "id": "230d3920",
   "metadata": {},
   "outputs": [],
   "source": [
    "def n_friday(friday_index, year, month):\n",
    "    # selects the nth friday of a given month in a given year\n",
    "    # https://stackoverflow.com/questions/28680896/how-can-i-get-the-3rd-friday-of-a-month-in-python/28681097\n",
    "    c = calendar.Calendar(firstweekday=calendar.SUNDAY)\n",
    "    monthcal = c.monthdatescalendar(year,month)\n",
    "    return [day for week in monthcal for day in week if\n",
    "        day.weekday() == calendar.FRIDAY and\n",
    "        day.month == month\n",
    "    ][friday_index]"
   ]
  },
  {
   "cell_type": "code",
   "execution_count": 5,
   "id": "3a1e26c4",
   "metadata": {},
   "outputs": [],
   "source": [
    "def format_for_gcal_import(subject, start_date, start_time, end_time):\n",
    "    return {\n",
    "        'Subject': subject, 'Start date': start_date, 'Start time': start_time,\n",
    "        'End time': end_time\n",
    "    }"
   ]
  },
  {
   "cell_type": "code",
   "execution_count": 6,
   "id": "0265b4ea",
   "metadata": {},
   "outputs": [],
   "source": [
    "def make_meeting_subject(presenter):\n",
    "    return f'Individual lab meeting: {presenter}'"
   ]
  },
  {
   "cell_type": "code",
   "execution_count": 7,
   "id": "81bc9317",
   "metadata": {
    "scrolled": true
   },
   "outputs": [
    {
     "data": {
      "text/html": [
       "<div>\n",
       "<style scoped>\n",
       "    .dataframe tbody tr th:only-of-type {\n",
       "        vertical-align: middle;\n",
       "    }\n",
       "\n",
       "    .dataframe tbody tr th {\n",
       "        vertical-align: top;\n",
       "    }\n",
       "\n",
       "    .dataframe thead th {\n",
       "        text-align: right;\n",
       "    }\n",
       "</style>\n",
       "<table border=\"1\" class=\"dataframe\">\n",
       "  <thead>\n",
       "    <tr style=\"text-align: right;\">\n",
       "      <th></th>\n",
       "      <th>Subject</th>\n",
       "      <th>Start date</th>\n",
       "      <th>Start time</th>\n",
       "      <th>End time</th>\n",
       "    </tr>\n",
       "  </thead>\n",
       "  <tbody>\n",
       "    <tr>\n",
       "      <th>0</th>\n",
       "      <td>Individual lab meeting: Daisy</td>\n",
       "      <td>02/04/2022</td>\n",
       "      <td>2:00 PM</td>\n",
       "      <td>4:00 PM</td>\n",
       "    </tr>\n",
       "    <tr>\n",
       "      <th>1</th>\n",
       "      <td>Individual lab meeting: Talysa</td>\n",
       "      <td>03/04/2022</td>\n",
       "      <td>2:00 PM</td>\n",
       "      <td>4:00 PM</td>\n",
       "    </tr>\n",
       "    <tr>\n",
       "      <th>2</th>\n",
       "      <td>Individual lab meeting: Ethan</td>\n",
       "      <td>04/01/2022</td>\n",
       "      <td>2:00 PM</td>\n",
       "      <td>4:00 PM</td>\n",
       "    </tr>\n",
       "    <tr>\n",
       "      <th>3</th>\n",
       "      <td>Individual lab meeting: Stella</td>\n",
       "      <td>05/06/2022</td>\n",
       "      <td>2:00 PM</td>\n",
       "      <td>4:00 PM</td>\n",
       "    </tr>\n",
       "    <tr>\n",
       "      <th>4</th>\n",
       "      <td>Individual lab meeting: Megan</td>\n",
       "      <td>06/03/2022</td>\n",
       "      <td>2:00 PM</td>\n",
       "      <td>4:00 PM</td>\n",
       "    </tr>\n",
       "    <tr>\n",
       "      <th>5</th>\n",
       "      <td>Individual lab meeting: Talysa</td>\n",
       "      <td>07/01/2022</td>\n",
       "      <td>2:00 PM</td>\n",
       "      <td>4:00 PM</td>\n",
       "    </tr>\n",
       "    <tr>\n",
       "      <th>6</th>\n",
       "      <td>Individual lab meeting: Ethan</td>\n",
       "      <td>08/05/2022</td>\n",
       "      <td>2:00 PM</td>\n",
       "      <td>4:00 PM</td>\n",
       "    </tr>\n",
       "    <tr>\n",
       "      <th>7</th>\n",
       "      <td>Individual lab meeting: Stella</td>\n",
       "      <td>09/02/2022</td>\n",
       "      <td>2:00 PM</td>\n",
       "      <td>4:00 PM</td>\n",
       "    </tr>\n",
       "    <tr>\n",
       "      <th>8</th>\n",
       "      <td>Individual lab meeting: Megan</td>\n",
       "      <td>10/07/2022</td>\n",
       "      <td>2:00 PM</td>\n",
       "      <td>4:00 PM</td>\n",
       "    </tr>\n",
       "    <tr>\n",
       "      <th>9</th>\n",
       "      <td>Individual lab meeting: Talysa</td>\n",
       "      <td>11/04/2022</td>\n",
       "      <td>2:00 PM</td>\n",
       "      <td>4:00 PM</td>\n",
       "    </tr>\n",
       "    <tr>\n",
       "      <th>10</th>\n",
       "      <td>Individual lab meeting: Ethan</td>\n",
       "      <td>12/02/2022</td>\n",
       "      <td>2:00 PM</td>\n",
       "      <td>4:00 PM</td>\n",
       "    </tr>\n",
       "  </tbody>\n",
       "</table>\n",
       "</div>"
      ],
      "text/plain": [
       "                           Subject  Start date Start time End time\n",
       "0    Individual lab meeting: Daisy  02/04/2022    2:00 PM  4:00 PM\n",
       "1   Individual lab meeting: Talysa  03/04/2022    2:00 PM  4:00 PM\n",
       "2    Individual lab meeting: Ethan  04/01/2022    2:00 PM  4:00 PM\n",
       "3   Individual lab meeting: Stella  05/06/2022    2:00 PM  4:00 PM\n",
       "4    Individual lab meeting: Megan  06/03/2022    2:00 PM  4:00 PM\n",
       "5   Individual lab meeting: Talysa  07/01/2022    2:00 PM  4:00 PM\n",
       "6    Individual lab meeting: Ethan  08/05/2022    2:00 PM  4:00 PM\n",
       "7   Individual lab meeting: Stella  09/02/2022    2:00 PM  4:00 PM\n",
       "8    Individual lab meeting: Megan  10/07/2022    2:00 PM  4:00 PM\n",
       "9   Individual lab meeting: Talysa  11/04/2022    2:00 PM  4:00 PM\n",
       "10   Individual lab meeting: Ethan  12/02/2022    2:00 PM  4:00 PM"
      ]
     },
     "execution_count": 7,
     "metadata": {},
     "output_type": "execute_result"
    }
   ],
   "source": [
    "def assign_dates(presenters, seed=12345):\n",
    "    np.random.seed(seed)\n",
    "    np.random.shuffle(presenters)\n",
    "    # Move Daisy to front of the list regardless of shuffle order\n",
    "    presenters.remove('Daisy')\n",
    "    presenters = ['Daisy'] + presenters\n",
    "    months = range(2, 13)\n",
    "    csv_rows = []\n",
    "    i = 0\n",
    "    for each_month in months:\n",
    "        if i == len(presenters):\n",
    "            i = 0\n",
    "        if 'Daisy' in presenters and i >= 3:  # Daisy gone by March?\n",
    "            presenters.remove('Daisy')\n",
    "            i -= 1\n",
    "        presenter = presenters[i]\n",
    "        pres_date = n_friday(\n",
    "            WHICH_MEETING, YEAR, each_month\n",
    "        )\n",
    "        pres_date_string = datetime.strftime(pres_date, '%m/%d/%Y')\n",
    "        csv_rows.append(\n",
    "            format_for_gcal_import(\n",
    "                make_meeting_subject(presenter), pres_date_string,\n",
    "                START_TIME, END_TIME\n",
    "            )\n",
    "        )\n",
    "        i += 1\n",
    "    return pd.DataFrame(csv_rows)\n",
    "\n",
    "assigned_dates = assign_dates(PRESENTERS)\n",
    "assigned_dates"
   ]
  },
  {
   "cell_type": "markdown",
   "id": "753d84ac",
   "metadata": {},
   "source": [
    "Write output to markdown to send to slack."
   ]
  },
  {
   "cell_type": "code",
   "execution_count": 8,
   "id": "f5b87066",
   "metadata": {},
   "outputs": [
    {
     "name": "stdout",
     "output_type": "stream",
     "text": [
      "| Subject                        | Start date   |\n",
      "|:-------------------------------|:-------------|\n",
      "| Individual lab meeting: Daisy  | 02/04/2022   |\n",
      "| Individual lab meeting: Talysa | 03/04/2022   |\n",
      "| Individual lab meeting: Ethan  | 04/01/2022   |\n",
      "| Individual lab meeting: Stella | 05/06/2022   |\n",
      "| Individual lab meeting: Megan  | 06/03/2022   |\n",
      "| Individual lab meeting: Talysa | 07/01/2022   |\n",
      "| Individual lab meeting: Ethan  | 08/05/2022   |\n",
      "| Individual lab meeting: Stella | 09/02/2022   |\n",
      "| Individual lab meeting: Megan  | 10/07/2022   |\n",
      "| Individual lab meeting: Talysa | 11/04/2022   |\n",
      "| Individual lab meeting: Ethan  | 12/02/2022   |\n"
     ]
    }
   ],
   "source": [
    "print(assigned_dates[['Subject', 'Start date']].to_markdown(index=False))"
   ]
  }
 ],
 "metadata": {
  "kernelspec": {
   "display_name": "Python 3",
   "language": "python",
   "name": "python3"
  },
  "language_info": {
   "codemirror_mode": {
    "name": "ipython",
    "version": 3
   },
   "file_extension": ".py",
   "mimetype": "text/x-python",
   "name": "python",
   "nbconvert_exporter": "python",
   "pygments_lexer": "ipython3",
   "version": "3.9.6"
  }
 },
 "nbformat": 4,
 "nbformat_minor": 5
}
