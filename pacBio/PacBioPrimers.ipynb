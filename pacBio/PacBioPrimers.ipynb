{
 "cells": [
  {
   "cell_type": "markdown",
   "id": "66eb630f",
   "metadata": {},
   "source": [
    "# Estimating samples per SMRT-cell"
   ]
  },
  {
   "cell_type": "markdown",
   "id": "ce4e51e1",
   "metadata": {},
   "source": [
    "Library > sample > reaction "
   ]
  },
  {
   "cell_type": "markdown",
   "id": "9514bad4",
   "metadata": {},
   "source": [
    "Individual IVT reactions will compose samples. In general reactions that belong to the same sample will include all inserts from a specific series of plasmids. Samples should include a transcribed untreated, transcribed RnaseH treated and untranscribed reactions."
   ]
  },
  {
   "cell_type": "code",
   "execution_count": 1,
   "id": "c75535f3",
   "metadata": {},
   "outputs": [
    {
     "data": {
      "text/plain": [
       "25806.451612903227"
      ]
     },
     "execution_count": 1,
     "metadata": {},
     "output_type": "execute_result"
    }
   ],
   "source": [
    "reads_per_SMRT_cell = 4e6 * 0.60\n",
    "per_reaction = reads_per_SMRT_cell / 3  # assuming transcribed, transcribed + RnaseH, and untranscribed\n",
    "per_insert = per_reaction / 31\n",
    "per_insert"
   ]
  },
  {
   "cell_type": "markdown",
   "id": "51720216",
   "metadata": {},
   "source": [
    "Above would be reads per insert for 1 standard reaction assuming only get 60% of the SequelII advertised 4 million reads per SMRTcell. I think 1000-2000 reads per insert would be enough to do stats on so with that in mind."
   ]
  },
  {
   "cell_type": "code",
   "execution_count": 2,
   "id": "e25feded",
   "metadata": {},
   "outputs": [
    {
     "data": {
      "text/plain": [
       "10.32258064516129"
      ]
     },
     "execution_count": 2,
     "metadata": {},
     "output_type": "execute_result"
    }
   ],
   "source": [
    "per_insert / 2500"
   ]
  },
  {
   "cell_type": "markdown",
   "id": "87ad8bad",
   "metadata": {},
   "source": [
    "So could likely pull off around 10 *samples* (or 30 reactions) per SMRT cell. As long as there was a way to individualy distinguish reactions from each other."
   ]
  },
  {
   "cell_type": "markdown",
   "id": "6bb260b7",
   "metadata": {},
   "source": [
    "One possible approach to doing this could be to amplify bisulfite treated products with overhanging PCR primers. \n",
    "The overhang would contain a unique ID for that reaction plus some buffer sequence on the 5' end to protect it from anything that might happen during library prep. This way after amplification any group of reactions could be combined into the same tube and could later be distinguised by sequencing."
   ]
  },
  {
   "cell_type": "markdown",
   "id": "dc9a2ef7",
   "metadata": {},
   "source": [
    "## Designing overhanging barcoded primers"
   ]
  },
  {
   "cell_type": "code",
   "execution_count": 3,
   "id": "94a3728c",
   "metadata": {},
   "outputs": [],
   "source": [
    "from dnachisel import *\n",
    "from Bio.SeqRecord import SeqRecord\n",
    "from Bio.Seq import Seq"
   ]
  },
  {
   "cell_type": "code",
   "execution_count": 4,
   "id": "991a7e94",
   "metadata": {},
   "outputs": [],
   "source": [
    "class BarcodedPrimer():\n",
    "    \n",
    "    buffer_seq = None\n",
    "    buffer_length = 15\n",
    "    overhang_length = 8\n",
    "    overhang_seqs = []\n",
    "    \n",
    "    def __init__(self, name, target, description=''):\n",
    "        self.name = name\n",
    "        self.target = target\n",
    "        self.overhang_seq = None\n",
    "        self.description = description\n",
    "    \n",
    "    @classmethod\n",
    "    def optimize_buffer(cls):\n",
    "         cls.buffer_seq = cls._optimize_seq(cls.buffer_length)\n",
    "        \n",
    "    @classmethod\n",
    "    def _optimize_seq(cls, length):\n",
    "        def resolve_sequence():\n",
    "            problem = DnaOptimizationProblem(\n",
    "                sequence=random_dna_sequence(length),\n",
    "                constraints=[\n",
    "                    AvoidPattern(\"EcoRI_site\"),\n",
    "                    AvoidPattern(\"SacI_site\"),\n",
    "                    AvoidPattern(\"KpnI_site\"),\n",
    "                    AvoidPattern(\"HindIII_site\"),\n",
    "                    AvoidPattern('6xA'),  # A homopolymers\n",
    "                    AvoidPattern('3x2mer'),  # Avoid direct repeats\n",
    "                    EnforceGCContent(mini=0.4, maxi=0.6, window=length)\n",
    "\n",
    "                ]           \n",
    "            )\n",
    "            problem.resolve_constraints()\n",
    "            problem.optimize()\n",
    "            return problem.sequence\n",
    "        \n",
    "        def hamming_dist(seq_a, seq_b):\n",
    "            \n",
    "            print(seq_a, seq_b)\n",
    "            assert len(seq_a) == len(seq_b)\n",
    "            return sum([1 for i in range(len(seq_a)) if seq_a[i] != seq_b[i]])\n",
    "        \n",
    "        # Generate sequences that fit required parameters. Reattempt\n",
    "        # if the hamming distance between the generated overhang\n",
    "        # and any previously generated ones is > 50%. This is to\n",
    "        # ensure sequences are easily IDed upon sequencing\n",
    "        # only check hamming distance if length of optimize sequence\n",
    "        # matches length for overhang seq set in the class variable\n",
    "        seq = resolve_sequence()\n",
    "        if length == cls.overhang_length:\n",
    "            while True:\n",
    "                for each_overhang in cls.overhang_seqs:\n",
    "                    if hamming_dist(seq, each_overhang) > int(length/2):\n",
    "                        break\n",
    "                break\n",
    "        \n",
    "        return seq\n",
    "    \n",
    "    \n",
    "    def optimize_overhang(self):\n",
    "        overhang = self._optimize_seq(BarcodedPrimer.overhang_length)\n",
    "        self.overhang_seq = overhang\n",
    "        BarcodedPrimer.overhang_seqs.append(self.overhang_seq)\n",
    "    \n",
    "    \n",
    "    def to_record(self):\n",
    "        if self.overhang_seq == None:\n",
    "            self.optimize_overhang()\n",
    "        if BarcodedPrimer.buffer_seq == None:\n",
    "            BarcodedPrimer.optimize_buffer()\n",
    "        complete_seq = BarcodedPrimer.buffer_seq + self.overhang_seq + self.target\n",
    "        \n",
    "        return SeqRecord(\n",
    "            Seq(complete_seq),\n",
    "            id=self.name,\n",
    "            name='',\n",
    "            description=self.description\n",
    "        )\n",
    "\n",
    "b = BarcodedPrimer('test-1', 'ATGC')\n",
    "c = BarcodedPrimer('test-2', 'ATGC')"
   ]
  },
  {
   "cell_type": "code",
   "execution_count": 5,
   "id": "ff020337",
   "metadata": {},
   "outputs": [
    {
     "name": "stdout",
     "output_type": "stream",
     "text": [
      "[]\n"
     ]
    }
   ],
   "source": [
    "print(BarcodedPrimer.overhang_seqs)"
   ]
  },
  {
   "cell_type": "code",
   "execution_count": 6,
   "id": "ec784dbe",
   "metadata": {},
   "outputs": [
    {
     "name": "stderr",
     "output_type": "stream",
     "text": [
      "                                                                                \r"
     ]
    },
    {
     "data": {
      "text/plain": [
       "SeqRecord(seq=Seq('ATTGCCATAGCAGAGAGCCTCTAATGC'), id='test-1', name='', description='', dbxrefs=[])"
      ]
     },
     "execution_count": 6,
     "metadata": {},
     "output_type": "execute_result"
    }
   ],
   "source": [
    "b.to_record()"
   ]
  },
  {
   "cell_type": "markdown",
   "id": "b1268179",
   "metadata": {},
   "source": [
    "### T7 init barcoded primers"
   ]
  },
  {
   "cell_type": "markdown",
   "id": "2f07bfa2",
   "metadata": {},
   "source": [
    "### Forward primer target selection"
   ]
  },
  {
   "cell_type": "markdown",
   "id": "7bf0d181",
   "metadata": {},
   "source": [
    "First I used primer3 to pick a fwd primer in the region between ~ -150 bp and -250 bp from pFC9.\n",
    "The complete sequence of this region is shown below."
   ]
  },
  {
   "cell_type": "markdown",
   "id": "2a6e4674",
   "metadata": {},
   "source": [
    "```\n",
    "tcgaggtgccgtaaagcactaaatcggaaccctaaagggagcccccgatttagagcttgacggggaaagccggcgaacgtggcgagaaaggaagggaagaaagcgaaaggagcgggcgctagggcgctggcaagtgtagcggtcacgctg\n",
    "```"
   ]
  },
  {
   "cell_type": "markdown",
   "id": "c509d472",
   "metadata": {},
   "source": [
    "Primer3 picked out the following sequence using the web interface. Used default parameters except only picked a left primer."
   ]
  },
  {
   "cell_type": "markdown",
   "id": "a5d74be1",
   "metadata": {},
   "source": [
    "```\n",
    "agggaagaaagcgaaaggag\n",
    "```"
   ]
  },
  {
   "cell_type": "markdown",
   "id": "edde1ab7",
   "metadata": {},
   "source": [
    "```\n",
    "No mispriming library specified\n",
    "Using 1-based sequence positions\n",
    "OLIGO            start  len      tm     gc%   any    3' seq \n",
    "LEFT_PRIMER         93   20   59.96   50.00  2.00  0.00 agggaagaaagcgaaaggag\n",
    "SEQUENCE SIZE: 150\n",
    "INCLUDED REGION SIZE: 150        49   20   59.82   45.00  4.00  0.00 tttagagcttgacggggaaa\n",
    "```"
   ]
  },
  {
   "cell_type": "markdown",
   "id": "f1f6f019",
   "metadata": {},
   "source": [
    "This is the primer I will use for the target in barcoded primers. Only one primer will need a barcode and so I selected fwd primer as the barcoded primer."
   ]
  },
  {
   "cell_type": "markdown",
   "id": "15da570a",
   "metadata": {},
   "source": [
    "### Reverse primer target selection"
   ]
  },
  {
   "cell_type": "markdown",
   "id": "2f6f15bb",
   "metadata": {},
   "source": [
    "For the reverse primer I selected the region between 2000 and 2200 bp downstream of the pFC9VR1 construct. These region has the sequence below."
   ]
  },
  {
   "cell_type": "markdown",
   "id": "3efe815b",
   "metadata": {},
   "source": [
    "```\n",
    "tccgcctccatccagtctattaattgttgccgggaagctagagtaagtagttcgccagttaatagtttgcgcaacgttgttgccattgctacaggcatcgtggtgtcacgctcgtcgtttggtatggcttcattcagctccggttcccaacgatcaaggcgagttacatgatcccccatgttgtgaaaaaaagcggttag\n",
    "```"
   ]
  },
  {
   "cell_type": "markdown",
   "id": "ae0acff0",
   "metadata": {},
   "source": [
    "I then used the primer3 web interface to search for reverse primers in this region. Primer3 select this oligo as the best primer."
   ]
  },
  {
   "cell_type": "markdown",
   "id": "37255f08",
   "metadata": {},
   "source": [
    "```\n",
    "aagccataccaaacgacgag\n",
    "```"
   ]
  },
  {
   "cell_type": "markdown",
   "id": "3f4ca2f9",
   "metadata": {},
   "source": [
    "```\n",
    "No mispriming library specified\n",
    "Using 1-based sequence positions\n",
    "OLIGO            start  len      tm     gc%   any    3' seq \n",
    "RIGHT_PRIMER       130   20   60.13   50.00  3.00  0.00 aagccataccaaacgacgag\n",
    "SEQUENCE SIZE: 200\n",
    "INCLUDED REGION SIZE: 200\n",
    "```"
   ]
  },
  {
   "cell_type": "markdown",
   "id": "999e8977",
   "metadata": {},
   "source": [
    "In all cases primer3 was used `primer3 release 1.1.4` was the version used."
   ]
  },
  {
   "cell_type": "markdown",
   "id": "c620a75f",
   "metadata": {},
   "source": [
    "### Barcoded forward primer design"
   ]
  },
  {
   "cell_type": "code",
   "execution_count": 7,
   "id": "a2203e9d",
   "metadata": {},
   "outputs": [],
   "source": [
    "barcoded_target = 'agggaagaaagcgaaaggag'.upper()"
   ]
  },
  {
   "cell_type": "markdown",
   "id": "90643d8f",
   "metadata": {},
   "source": [
    "Make a total of 15 barcoded primers to cover multiple potential experiments."
   ]
  },
  {
   "cell_type": "code",
   "execution_count": 8,
   "id": "8e308868",
   "metadata": {},
   "outputs": [],
   "source": [
    "total_t7_init_primers = 15"
   ]
  },
  {
   "cell_type": "code",
   "execution_count": 9,
   "id": "db963fee",
   "metadata": {},
   "outputs": [
    {
     "name": "stderr",
     "output_type": "stream",
     "text": [
      "constraint:   0%|       | 0/7 [00:00<?, ?it/s, now=AvoidPattern[0-8](pattern...]\n",
      "location:   0%|                                 | 0/1 [00:00<?, ?it/s, now=None]\u001b[A\n",
      "location:   0%|                                  | 0/1 [00:00<?, ?it/s, now=0-8]\u001b[A\n",
      "                                                                                \u001b[A\r"
     ]
    },
    {
     "name": "stdout",
     "output_type": "stream",
     "text": [
      "GCCACTAT AGCCTCTA\n"
     ]
    },
    {
     "name": "stderr",
     "output_type": "stream",
     "text": [
      "constraint:   0%|       | 0/7 [00:00<?, ?it/s, now=AvoidPattern[0-8](pattern...]\n",
      "location:   0%|                                 | 0/1 [00:00<?, ?it/s, now=None]\u001b[A\n",
      "location:   0%|                                  | 0/1 [00:00<?, ?it/s, now=0-8]\u001b[A\n",
      "                                                                                \u001b[A\r"
     ]
    },
    {
     "name": "stdout",
     "output_type": "stream",
     "text": [
      "GGAGTCAA AGCCTCTA\n",
      "GGAGTCAA GCCACTAT\n"
     ]
    },
    {
     "name": "stderr",
     "output_type": "stream",
     "text": [
      "                                                                                \r"
     ]
    },
    {
     "name": "stdout",
     "output_type": "stream",
     "text": [
      "CGCTTTGT AGCCTCTA\n"
     ]
    },
    {
     "name": "stderr",
     "output_type": "stream",
     "text": [
      "constraint:   0%|       | 0/7 [00:00<?, ?it/s, now=AvoidPattern[0-8](pattern...]\n",
      "location:   0%|                                 | 0/1 [00:00<?, ?it/s, now=None]\u001b[A\n",
      "location:   0%|                                  | 0/1 [00:00<?, ?it/s, now=0-8]\u001b[A\n",
      "                                                                                \u001b[A\r"
     ]
    },
    {
     "name": "stdout",
     "output_type": "stream",
     "text": [
      "CTATCGCA AGCCTCTA\n"
     ]
    },
    {
     "name": "stderr",
     "output_type": "stream",
     "text": [
      "constraint:   0%|       | 0/7 [00:00<?, ?it/s, now=AvoidPattern[0-8](pattern...]\n",
      "location:   0%|                                 | 0/1 [00:00<?, ?it/s, now=None]\u001b[A\n",
      "location:   0%|                                  | 0/1 [00:00<?, ?it/s, now=0-8]\u001b[A\n",
      "                                                                                \u001b[A\r"
     ]
    },
    {
     "name": "stdout",
     "output_type": "stream",
     "text": [
      "GGACAATC AGCCTCTA\n"
     ]
    },
    {
     "name": "stderr",
     "output_type": "stream",
     "text": [
      "constraint:   0%|       | 0/7 [00:00<?, ?it/s, now=AvoidPattern[0-8](pattern...]\n",
      "location:   0%|                                 | 0/1 [00:00<?, ?it/s, now=None]\u001b[A\n",
      "location:   0%|                                  | 0/1 [00:00<?, ?it/s, now=0-8]\u001b[A\n",
      "                                                                                \u001b[A\r"
     ]
    },
    {
     "name": "stdout",
     "output_type": "stream",
     "text": [
      "TGGAGTTC AGCCTCTA\n"
     ]
    },
    {
     "name": "stderr",
     "output_type": "stream",
     "text": [
      "constraint:   0%|       | 0/7 [00:00<?, ?it/s, now=AvoidPattern[0-8](pattern...]\n",
      "location:   0%|                                 | 0/1 [00:00<?, ?it/s, now=None]\u001b[A\n",
      "location:   0%|                                  | 0/1 [00:00<?, ?it/s, now=0-8]\u001b[A\n",
      "                                                                                \u001b[A\r"
     ]
    },
    {
     "name": "stdout",
     "output_type": "stream",
     "text": [
      "ATGCATGG AGCCTCTA\n"
     ]
    },
    {
     "name": "stderr",
     "output_type": "stream",
     "text": [
      "constraint:   0%|       | 0/7 [00:00<?, ?it/s, now=AvoidPattern[0-8](pattern...]\n",
      "location:   0%|                                 | 0/1 [00:00<?, ?it/s, now=None]\u001b[A\n",
      "location:   0%|                                  | 0/1 [00:00<?, ?it/s, now=0-8]\u001b[A\n",
      "                                                                                \u001b[A\r"
     ]
    },
    {
     "name": "stdout",
     "output_type": "stream",
     "text": [
      "AAGACGCT AGCCTCTA\n"
     ]
    },
    {
     "name": "stderr",
     "output_type": "stream",
     "text": [
      "constraint:   0%|       | 0/7 [00:00<?, ?it/s, now=AvoidPattern[0-8](pattern...]\n",
      "location:   0%|                                 | 0/1 [00:00<?, ?it/s, now=None]\u001b[A\n",
      "location:   0%|                                  | 0/1 [00:00<?, ?it/s, now=0-8]\u001b[A\n",
      "                                                                                \u001b[A\r"
     ]
    },
    {
     "name": "stdout",
     "output_type": "stream",
     "text": [
      "TAACGAGC AGCCTCTA\n"
     ]
    },
    {
     "name": "stderr",
     "output_type": "stream",
     "text": [
      "                                                                                \r"
     ]
    },
    {
     "name": "stdout",
     "output_type": "stream",
     "text": [
      "AATTCGGG AGCCTCTA\n"
     ]
    },
    {
     "name": "stderr",
     "output_type": "stream",
     "text": [
      "                                                                                \r"
     ]
    },
    {
     "name": "stdout",
     "output_type": "stream",
     "text": [
      "GTCCTTAG AGCCTCTA\n"
     ]
    },
    {
     "name": "stderr",
     "output_type": "stream",
     "text": [
      "constraint:   0%|       | 0/7 [00:00<?, ?it/s, now=AvoidPattern[0-8](pattern...]\n",
      "location:   0%|                                 | 0/1 [00:00<?, ?it/s, now=None]\u001b[A\n",
      "location:   0%|                                  | 0/1 [00:00<?, ?it/s, now=0-8]\u001b[A\n",
      "                                                                                \u001b[A\r"
     ]
    },
    {
     "name": "stdout",
     "output_type": "stream",
     "text": [
      "TGAGCCTA AGCCTCTA\n",
      "TGAGCCTA GCCACTAT\n"
     ]
    },
    {
     "name": "stderr",
     "output_type": "stream",
     "text": [
      "constraint:   0%|       | 0/7 [00:00<?, ?it/s, now=AvoidPattern[0-8](pattern...]\n",
      "location:   0%|                                 | 0/1 [00:00<?, ?it/s, now=None]\u001b[A\n",
      "location:   0%|                                  | 0/1 [00:00<?, ?it/s, now=0-8]\u001b[A\n",
      "                                                                                \u001b[A\r"
     ]
    },
    {
     "name": "stdout",
     "output_type": "stream",
     "text": [
      "CTAGGTGA AGCCTCTA\n"
     ]
    },
    {
     "name": "stderr",
     "output_type": "stream",
     "text": [
      "constraint:   0%|       | 0/7 [00:00<?, ?it/s, now=AvoidPattern[0-8](pattern...]\n",
      "location:   0%|                                 | 0/1 [00:00<?, ?it/s, now=None]\u001b[A\n",
      "location:   0%|                                  | 0/1 [00:00<?, ?it/s, now=0-8]\u001b[A\n",
      "                                                                                \u001b[A\r"
     ]
    },
    {
     "name": "stdout",
     "output_type": "stream",
     "text": [
      "ACTCTTCC AGCCTCTA\n"
     ]
    },
    {
     "name": "stderr",
     "output_type": "stream",
     "text": [
      "                                                                                "
     ]
    },
    {
     "name": "stdout",
     "output_type": "stream",
     "text": [
      "TCACCCAA AGCCTCTA\n"
     ]
    },
    {
     "name": "stderr",
     "output_type": "stream",
     "text": [
      "\r"
     ]
    }
   ],
   "source": [
    "t7_init_primers = []\n",
    "for i in range(total_t7_init_primers):\n",
    "    t7_init_primers.append(\n",
    "        BarcodedPrimer(f'T7InitBarFwd-{i}', barcoded_target)\n",
    "    )\n",
    "    t7_init_primers[i].optimize_overhang()"
   ]
  },
  {
   "cell_type": "code",
   "execution_count": 10,
   "id": "f6788298",
   "metadata": {},
   "outputs": [
    {
     "name": "stdout",
     "output_type": "stream",
     "text": [
      "T7InitBarFwd-0\n",
      "Primer seq: ATTGCCATAGCAGAGGCCACTATAGGGAAGAAAGCGAAAGGAG\n",
      "Barcode: GCCACTAT\n",
      "===========================================\n",
      "T7InitBarFwd-1\n",
      "Primer seq: ATTGCCATAGCAGAGGGAGTCAAAGGGAAGAAAGCGAAAGGAG\n",
      "Barcode: GGAGTCAA\n",
      "===========================================\n",
      "T7InitBarFwd-2\n",
      "Primer seq: ATTGCCATAGCAGAGCGCTTTGTAGGGAAGAAAGCGAAAGGAG\n",
      "Barcode: CGCTTTGT\n",
      "===========================================\n",
      "T7InitBarFwd-3\n",
      "Primer seq: ATTGCCATAGCAGAGCTATCGCAAGGGAAGAAAGCGAAAGGAG\n",
      "Barcode: CTATCGCA\n",
      "===========================================\n",
      "T7InitBarFwd-4\n",
      "Primer seq: ATTGCCATAGCAGAGGGACAATCAGGGAAGAAAGCGAAAGGAG\n",
      "Barcode: GGACAATC\n",
      "===========================================\n",
      "T7InitBarFwd-5\n",
      "Primer seq: ATTGCCATAGCAGAGTGGAGTTCAGGGAAGAAAGCGAAAGGAG\n",
      "Barcode: TGGAGTTC\n",
      "===========================================\n",
      "T7InitBarFwd-6\n",
      "Primer seq: ATTGCCATAGCAGAGATGCATGGAGGGAAGAAAGCGAAAGGAG\n",
      "Barcode: ATGCATGG\n",
      "===========================================\n",
      "T7InitBarFwd-7\n",
      "Primer seq: ATTGCCATAGCAGAGAAGACGCTAGGGAAGAAAGCGAAAGGAG\n",
      "Barcode: AAGACGCT\n",
      "===========================================\n",
      "T7InitBarFwd-8\n",
      "Primer seq: ATTGCCATAGCAGAGTAACGAGCAGGGAAGAAAGCGAAAGGAG\n",
      "Barcode: TAACGAGC\n",
      "===========================================\n",
      "T7InitBarFwd-9\n",
      "Primer seq: ATTGCCATAGCAGAGAATTCGGGAGGGAAGAAAGCGAAAGGAG\n",
      "Barcode: AATTCGGG\n",
      "===========================================\n",
      "T7InitBarFwd-10\n",
      "Primer seq: ATTGCCATAGCAGAGGTCCTTAGAGGGAAGAAAGCGAAAGGAG\n",
      "Barcode: GTCCTTAG\n",
      "===========================================\n",
      "T7InitBarFwd-11\n",
      "Primer seq: ATTGCCATAGCAGAGTGAGCCTAAGGGAAGAAAGCGAAAGGAG\n",
      "Barcode: TGAGCCTA\n",
      "===========================================\n",
      "T7InitBarFwd-12\n",
      "Primer seq: ATTGCCATAGCAGAGCTAGGTGAAGGGAAGAAAGCGAAAGGAG\n",
      "Barcode: CTAGGTGA\n",
      "===========================================\n",
      "T7InitBarFwd-13\n",
      "Primer seq: ATTGCCATAGCAGAGACTCTTCCAGGGAAGAAAGCGAAAGGAG\n",
      "Barcode: ACTCTTCC\n",
      "===========================================\n",
      "T7InitBarFwd-14\n",
      "Primer seq: ATTGCCATAGCAGAGTCACCCAAAGGGAAGAAAGCGAAAGGAG\n",
      "Barcode: TCACCCAA\n",
      "===========================================\n"
     ]
    }
   ],
   "source": [
    "for p in t7_init_primers:\n",
    "    print(p.name)\n",
    "    print('Primer seq:', p.to_record().seq)\n",
    "    print('Barcode:', p.overhang_seq)\n",
    "    print('='*len(p.to_record()))"
   ]
  },
  {
   "cell_type": "markdown",
   "id": "ea052eaa",
   "metadata": {},
   "source": [
    "## TacInit series primers"
   ]
  },
  {
   "cell_type": "markdown",
   "id": "a961451b",
   "metadata": {},
   "source": [
    "Following same design method for this series of plasmids as I did with the T7init series. Using primer3 web interface `release 1.1.4`."
   ]
  },
  {
   "cell_type": "markdown",
   "id": "b64055fb",
   "metadata": {},
   "source": [
    "### Forward primer target selection"
   ]
  },
  {
   "cell_type": "markdown",
   "id": "0b1d6151",
   "metadata": {},
   "source": [
    "First selected region ~150-250 bp upstream of the tac promoter, region sequence is shown below."
   ]
  },
  {
   "cell_type": "markdown",
   "id": "27b80a79",
   "metadata": {},
   "source": [
    "```\n",
    "gttatccacagaatcaggggataacgcaggaaagaacatgtgagcaaaaggccagcaaaaggccaggaaccgtaaaaaggccgcgttgctggcgtttttccataggctcggcccccctgacgagcatcacaaaaatcgacgctcaagtca\n",
    "```"
   ]
  },
  {
   "cell_type": "markdown",
   "id": "4dfe0b70",
   "metadata": {},
   "source": [
    "Then used primer3 to pick a forward primer for this sequence."
   ]
  },
  {
   "cell_type": "markdown",
   "id": "bf291c6c",
   "metadata": {},
   "source": [
    "```\n",
    "cctgacgagcatcacaaaaa\n",
    "```\n",
    "\n",
    "```\n",
    "No mispriming library specified\n",
    "Using 1-based sequence positions\n",
    "OLIGO            start  len      tm     gc%   any    3' seq \n",
    "LEFT_PRIMER        116   20   59.84   45.00  4.00  0.00 cctgacgagcatcacaaaaa\n",
    "SEQUENCE SIZE: 150\n",
    "INCLUDED REGION SIZE: 150\n",
    "```"
   ]
  },
  {
   "cell_type": "markdown",
   "id": "a8e5287b",
   "metadata": {},
   "source": [
    "### Reverse primer target selection"
   ]
  },
  {
   "cell_type": "markdown",
   "id": "488a8b22",
   "metadata": {},
   "source": [
    "```\n",
    "tcttttactttcaccagcgtttctgggtgagcaaaaacaggaaggcaaaatgccgcaaaaaagggaataagggcgacacggaaatgttgaatactcatactcttcctttttcaatattattgaagcatttatcagggttattgtctcatg\n",
    "```"
   ]
  },
  {
   "cell_type": "markdown",
   "id": "6c0f42d4",
   "metadata": {},
   "source": [
    "Primer3 selection"
   ]
  },
  {
   "cell_type": "markdown",
   "id": "0ec274e3",
   "metadata": {},
   "source": [
    "```\n",
    "tttgccttcctgtttttgct\n",
    "```\n",
    "\n",
    "```\n",
    "No mispriming library specified\n",
    "Using 1-based sequence positions\n",
    "OLIGO            start  len      tm     gc%   any    3' seq \n",
    "RIGHT_PRIMER        49   20   59.86   40.00  2.00  0.00 tttgccttcctgtttttgct\n",
    "SEQUENCE SIZE: 150\n",
    "INCLUDED REGION SIZE: 150\n",
    "```"
   ]
  },
  {
   "cell_type": "markdown",
   "id": "3e78c8fc",
   "metadata": {},
   "source": [
    "### Barcoded forward primer design"
   ]
  },
  {
   "cell_type": "markdown",
   "id": "1597e782",
   "metadata": {},
   "source": [
    "Fewer experiments are likely to be done with this series (no Cas9 targets currently) and so fewer barcoded primers\n",
    "need to be designed."
   ]
  },
  {
   "cell_type": "code",
   "execution_count": 11,
   "id": "a6288255",
   "metadata": {},
   "outputs": [],
   "source": [
    "tac_init_barcoded = 3\n",
    "tac_init_fwd_target = 'cctgacgagcatcacaaaaa'.upper()"
   ]
  },
  {
   "cell_type": "code",
   "execution_count": 12,
   "id": "624030dc",
   "metadata": {},
   "outputs": [
    {
     "name": "stderr",
     "output_type": "stream",
     "text": [
      "                                                                                \r"
     ]
    },
    {
     "name": "stdout",
     "output_type": "stream",
     "text": [
      "GGAGGTAA AGCCTCTA\n"
     ]
    },
    {
     "name": "stderr",
     "output_type": "stream",
     "text": [
      "constraint:   0%|       | 0/7 [00:00<?, ?it/s, now=AvoidPattern[0-8](pattern...]\n",
      "location:   0%|                                 | 0/1 [00:00<?, ?it/s, now=None]\u001b[A\n",
      "location:   0%|                                  | 0/1 [00:00<?, ?it/s, now=0-8]\u001b[A\n",
      "                                                                                \u001b[A\r"
     ]
    },
    {
     "name": "stdout",
     "output_type": "stream",
     "text": [
      "AACGAGGA AGCCTCTA\n"
     ]
    },
    {
     "name": "stderr",
     "output_type": "stream",
     "text": [
      "constraint:   0%|       | 0/7 [00:00<?, ?it/s, now=AvoidPattern[0-8](pattern...]\n",
      "location:   0%|                                 | 0/1 [00:00<?, ?it/s, now=None]\u001b[A\n",
      "location:   0%|                                  | 0/1 [00:00<?, ?it/s, now=0-8]\u001b[A\n",
      "                                                                                \u001b[A"
     ]
    },
    {
     "name": "stdout",
     "output_type": "stream",
     "text": [
      "CGTGTTCA AGCCTCTA\n"
     ]
    },
    {
     "name": "stderr",
     "output_type": "stream",
     "text": [
      "\r"
     ]
    }
   ],
   "source": [
    "tac_init_primers = []\n",
    "for i in range(tac_init_barcoded):\n",
    "    tac_init_primers.append(\n",
    "        BarcodedPrimer(f'TacInitBarFwd-{i}', tac_init_fwd_target)\n",
    "    )\n",
    "    tac_init_primers[i].optimize_overhang()"
   ]
  },
  {
   "cell_type": "code",
   "execution_count": 13,
   "id": "9b853200",
   "metadata": {},
   "outputs": [
    {
     "name": "stdout",
     "output_type": "stream",
     "text": [
      "TacInitBarFwd-0\n",
      "Primer seq: ATTGCCATAGCAGAGGGAGGTAACCTGACGAGCATCACAAAAA\n",
      "Barcode: GGAGGTAA\n",
      "===========================================\n",
      "TacInitBarFwd-1\n",
      "Primer seq: ATTGCCATAGCAGAGAACGAGGACCTGACGAGCATCACAAAAA\n",
      "Barcode: AACGAGGA\n",
      "===========================================\n",
      "TacInitBarFwd-2\n",
      "Primer seq: ATTGCCATAGCAGAGCGTGTTCACCTGACGAGCATCACAAAAA\n",
      "Barcode: CGTGTTCA\n",
      "===========================================\n"
     ]
    }
   ],
   "source": [
    "for p in tac_init_primers:\n",
    "    print(p.name)\n",
    "    print('Primer seq:', p.to_record().seq)\n",
    "    print('Barcode:', p.overhang_seq)\n",
    "    print('='*len(p.to_record()))"
   ]
  },
  {
   "cell_type": "markdown",
   "id": "b73ece59",
   "metadata": {},
   "source": [
    "Calculate hamming distance between all barcodes."
   ]
  },
  {
   "cell_type": "code",
   "execution_count": 14,
   "id": "5ad741c1",
   "metadata": {},
   "outputs": [
    {
     "data": {
      "text/plain": [
       "['AGCCTCTA',\n",
       " 'GCCACTAT',\n",
       " 'GGAGTCAA',\n",
       " 'CGCTTTGT',\n",
       " 'CTATCGCA',\n",
       " 'GGACAATC',\n",
       " 'TGGAGTTC',\n",
       " 'ATGCATGG',\n",
       " 'AAGACGCT',\n",
       " 'TAACGAGC',\n",
       " 'AATTCGGG',\n",
       " 'GTCCTTAG',\n",
       " 'TGAGCCTA',\n",
       " 'CTAGGTGA',\n",
       " 'ACTCTTCC',\n",
       " 'TCACCCAA',\n",
       " 'GGAGGTAA',\n",
       " 'AACGAGGA',\n",
       " 'CGTGTTCA']"
      ]
     },
     "execution_count": 14,
     "metadata": {},
     "output_type": "execute_result"
    }
   ],
   "source": [
    "BarcodedPrimer.overhang_seqs\n"
   ]
  },
  {
   "cell_type": "code",
   "execution_count": 15,
   "id": "3e2f1e1d",
   "metadata": {},
   "outputs": [],
   "source": [
    "import matplotlib.pyplot as plt\n",
    "import numpy as np"
   ]
  },
  {
   "cell_type": "code",
   "execution_count": 16,
   "id": "903b2f8a",
   "metadata": {},
   "outputs": [],
   "source": [
    "def ham(a, b):\n",
    "    return sum([1 for i in range(len(a)) if a[i] != b[i]])"
   ]
  },
  {
   "cell_type": "code",
   "execution_count": 17,
   "id": "02d5f800",
   "metadata": {
    "scrolled": true
   },
   "outputs": [
    {
     "name": "stdout",
     "output_type": "stream",
     "text": [
      "19\n"
     ]
    }
   ],
   "source": [
    "print(len(BarcodedPrimer.overhang_seqs))"
   ]
  },
  {
   "cell_type": "code",
   "execution_count": 18,
   "id": "39842afe",
   "metadata": {},
   "outputs": [],
   "source": [
    "ham_grid = np.zeros((len(BarcodedPrimer.overhang_seqs), len(BarcodedPrimer.overhang_seqs)))"
   ]
  },
  {
   "cell_type": "code",
   "execution_count": 19,
   "id": "40ae458c",
   "metadata": {},
   "outputs": [
    {
     "data": {
      "text/plain": [
       "8"
      ]
     },
     "execution_count": 19,
     "metadata": {},
     "output_type": "execute_result"
    }
   ],
   "source": [
    "len(BarcodedPrimer.overhang_seqs[0])"
   ]
  },
  {
   "cell_type": "code",
   "execution_count": 20,
   "id": "2def43e1",
   "metadata": {},
   "outputs": [],
   "source": [
    "for i in range(len(BarcodedPrimer.overhang_seqs)):\n",
    "    for j in range(len(BarcodedPrimer.overhang_seqs)):\n",
    "        ham_grid[i][j] = ham(BarcodedPrimer.overhang_seqs[i], BarcodedPrimer.overhang_seqs[j]) / len(BarcodedPrimer.overhang_seqs[0])"
   ]
  },
  {
   "cell_type": "code",
   "execution_count": 21,
   "id": "ec34d908",
   "metadata": {},
   "outputs": [
    {
     "data": {
      "text/plain": [
       "<matplotlib.colorbar.Colorbar at 0x7f1e27d621c0>"
      ]
     },
     "execution_count": 21,
     "metadata": {},
     "output_type": "execute_result"
    },
    {
     "data": {
      "image/png": "[encoded data removed]",
      "text/plain": [
       "<Figure size 432x288 with 2 Axes>"
      ]
     },
     "metadata": {
      "needs_background": "light"
     },
     "output_type": "display_data"
    }
   ],
   "source": [
    "c = plt.imshow(ham_grid)\n",
    "plt.colorbar(c)"
   ]
  }
 ],
 "metadata": {
  "kernelspec": {
   "display_name": "Python 3",
   "language": "python",
   "name": "python3"
  },
  "language_info": {
   "codemirror_mode": {
    "name": "ipython",
    "version": 3
   },
   "file_extension": ".py",
   "mimetype": "text/x-python",
   "name": "python",
   "nbconvert_exporter": "python",
   "pygments_lexer": "ipython3",
   "version": "3.9.6"
  }
 },
 "nbformat": 4,
 "nbformat_minor": 5
}
