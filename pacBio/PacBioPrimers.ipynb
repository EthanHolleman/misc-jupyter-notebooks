{
 "cells": [
  {
   "cell_type": "markdown",
   "id": "66eb630f",
   "metadata": {},
   "source": [
    "# Estimating samples per SMRT-cell"
   ]
  },
  {
   "cell_type": "markdown",
   "id": "ce4e51e1",
   "metadata": {},
   "source": [
    "Library > sample > reaction "
   ]
  },
  {
   "cell_type": "markdown",
   "id": "9514bad4",
   "metadata": {},
   "source": [
    "Individual IVT reactions will compose samples. In general reactions that belong to the same sample will include all inserts from a specific series of plasmids. Samples should include a transcribed untreated, transcribed RnaseH treated and untranscribed reactions."
   ]
  },
  {
   "cell_type": "code",
   "execution_count": 12,
   "id": "c75535f3",
   "metadata": {},
   "outputs": [
    {
     "data": {
      "text/plain": [
       "25806.451612903227"
      ]
     },
     "execution_count": 12,
     "metadata": {},
     "output_type": "execute_result"
    }
   ],
   "source": [
    "reads_per_SMRT_cell = 4e6 * 0.60\n",
    "per_reaction = reads_per_SMRT_cell / 3  # assuming transcribed, transcribed + RnaseH, and untranscribed\n",
    "per_insert = per_reaction / 31\n",
    "per_insert"
   ]
  },
  {
   "cell_type": "markdown",
   "id": "51720216",
   "metadata": {},
   "source": [
    "Above would be reads per insert for 1 standard reaction assuming only get 60% of the SequelII advertised 4 million reads per SMRTcell. I think 1000-2000 reads per insert would be enough to do stats on so with that in mind."
   ]
  },
  {
   "cell_type": "code",
   "execution_count": 13,
   "id": "e25feded",
   "metadata": {},
   "outputs": [
    {
     "data": {
      "text/plain": [
       "10.32258064516129"
      ]
     },
     "execution_count": 13,
     "metadata": {},
     "output_type": "execute_result"
    }
   ],
   "source": [
    "per_insert / 2500"
   ]
  },
  {
   "cell_type": "markdown",
   "id": "87ad8bad",
   "metadata": {},
   "source": [
    "So could likely pull off around 10 *samples* (or 30 reactions) per SMRT cell. As long as there was a way to individualy distinguish reactions from each other."
   ]
  },
  {
   "cell_type": "markdown",
   "id": "6bb260b7",
   "metadata": {},
   "source": [
    "One possible approach to doing this could be to amplify bisulfite treated products with overhanging PCR primers. \n",
    "The overhang would contain a unique ID for that reaction plus some buffer sequence on the 5' end to protect it from anything that might happen during library prep. This way after amplification any group of reactions could be combined into the same tube and could later be distinguised by sequencing."
   ]
  },
  {
   "cell_type": "markdown",
   "id": "dc9a2ef7",
   "metadata": {},
   "source": [
    "## Designing overhanging barcoded primers"
   ]
  },
  {
   "cell_type": "code",
   "execution_count": 33,
   "id": "94a3728c",
   "metadata": {},
   "outputs": [],
   "source": [
    "from dnachisel import *\n",
    "from Bio.SeqRecord import SeqRecord\n",
    "from Bio.Seq import Seq"
   ]
  },
  {
   "cell_type": "code",
   "execution_count": 40,
   "id": "991a7e94",
   "metadata": {},
   "outputs": [
    {
     "name": "stderr",
     "output_type": "stream",
     "text": [
      "constraint:   0%|       | 0/7 [00:00<?, ?it/s, now=AvoidPattern[0-8](pattern...]\n",
      "location:   0%|                                 | 0/1 [00:00<?, ?it/s, now=None]\u001b[A\n",
      "location:   0%|                                  | 0/1 [00:00<?, ?it/s, now=0-8]\u001b[A\n",
      "                                                                                \u001b[A\r"
     ]
    },
    {
     "name": "stdout",
     "output_type": "stream",
     "text": [
      "ID: test-1\n",
      "Number of features: 0\n",
      "Seq('GGGTGCAGGTAGGTAGTAGGACATarget1')\n",
      "GTAGGACA\n"
     ]
    },
    {
     "name": "stderr",
     "output_type": "stream",
     "text": [
      "constraint:   0%|       | 0/7 [00:00<?, ?it/s, now=AvoidPattern[0-8](pattern...]\n",
      "location:   0%|                                 | 0/1 [00:00<?, ?it/s, now=None]\u001b[A\n",
      "location:   0%|                                  | 0/1 [00:00<?, ?it/s, now=0-8]\u001b[A\n",
      "                                                                                \u001b[A"
     ]
    },
    {
     "name": "stdout",
     "output_type": "stream",
     "text": [
      "ID: test-2\n",
      "Number of features: 0\n",
      "Seq('GGGTGCAGGTAGGTATCTGGTTCTarget2')\n",
      "TCTGGTTC\n"
     ]
    },
    {
     "name": "stderr",
     "output_type": "stream",
     "text": [
      "\r"
     ]
    }
   ],
   "source": [
    "class BarcodedPrimer():\n",
    "    \n",
    "    buffer_seq = None\n",
    "    buffer_length = 15\n",
    "    overhang_seqs = []\n",
    "    \n",
    "    def __init__(self, name, target, overhang_length=8, description=''):\n",
    "        self.name = name\n",
    "        self.target = target\n",
    "        self.overhang_length = overhang_length\n",
    "        self.overhang_seq = None\n",
    "        self.description = description\n",
    "    \n",
    "    @classmethod\n",
    "    def optimize_buffer(cls):\n",
    "         cls.buffer_seq = cls._optimize_seq(cls.buffer_length)\n",
    "        \n",
    "    @classmethod\n",
    "    def _optimize_seq(cls, length):\n",
    "        \n",
    "        def resolve_sequence():\n",
    "            problem = DnaOptimizationProblem(\n",
    "                sequence=random_dna_sequence(length),\n",
    "                constraints=[\n",
    "                    AvoidPattern(\"EcoRI_site\"),\n",
    "                    AvoidPattern(\"SacI_site\"),\n",
    "                    AvoidPattern(\"KpnI_site\"),\n",
    "                    AvoidPattern(\"HindIII_site\"),\n",
    "                    AvoidPattern('6xA'),  # A homopolymers\n",
    "                    AvoidPattern('3x2mer'),  # Avoid direct repeats\n",
    "                    EnforceGCContent(mini=0.4, maxi=0.6, window=length)\n",
    "\n",
    "                ]           \n",
    "            )\n",
    "            problem.resolve_constraints()\n",
    "            problem.optimize()\n",
    "            return problem.sequence\n",
    "        \n",
    "        def hamming_dist(seq_a, seq_b):\n",
    "            assert len(seq_a) == len(seq_b)\n",
    "            return sum([1 for i in range(len(seq_a)) if seq_a[i] == seq_b[i]])\n",
    "        \n",
    "        # Generate sequences that fit required parameters. Reattempt\n",
    "        # if the hamming distance between the generated overhang\n",
    "        # and any previously generated ones is > 50%. This is to\n",
    "        # ensure sequences are easily IDed upon sequencing\n",
    "        while True:\n",
    "            seq = resolve_sequence()\n",
    "            for each_overhang in cls.overhang_seqs:\n",
    "                if hamming_dist(seq, each_overhang) < int(length/2):\n",
    "                    break\n",
    "            break\n",
    "        \n",
    "        return seq\n",
    "    \n",
    "    \n",
    "    def optimize_overhang(self):\n",
    "        overhang = self._optimize_seq(self.overhang_length)\n",
    "        attempts = 0\n",
    "        while overhang in BarcodedPrimer.overhang_seqs:\n",
    "            overhang = self._optimize_seq(self.overhang_length)\n",
    "            attempts += 1\n",
    "            if attempts > 4:\n",
    "                raise Exception('Too many attempts!')\n",
    "        self.overhang_seq = overhang\n",
    "    \n",
    "    \n",
    "    def to_record(self):\n",
    "        if self.overhang_seq == None:\n",
    "            self.optimize_overhang()\n",
    "        if BarcodedPrimer.buffer_seq == None:\n",
    "            BarcodedPrimer.optimize_buffer()\n",
    "        complete_seq = BarcodedPrimer.buffer_seq + self.overhang_seq + self.target\n",
    "        \n",
    "        return SeqRecord(\n",
    "            Seq(complete_seq),\n",
    "            id=self.name,\n",
    "            name='',\n",
    "            description=self.description\n",
    "        )\n",
    "\n",
    "b = BarcodedPrimer('test-1', '')\n",
    "c = BarcodedPrimer('test-2', 'Target2')\n",
    "print(b.to_record())\n",
    "print(b.overhang_seq)\n",
    "print(c.to_record())\n",
    "print(c.overhang_seq)"
   ]
  },
  {
   "cell_type": "markdown",
   "id": "b1268179",
   "metadata": {},
   "source": [
    "### T7 init barcoded primers"
   ]
  },
  {
   "cell_type": "markdown",
   "id": "7bf0d181",
   "metadata": {},
   "source": [
    "First I used primer3 to pick a fwd primer in the region between ~ -150 bp and -250 bp from pFC9.\n",
    "The complete sequence of this region is shown below."
   ]
  },
  {
   "cell_type": "markdown",
   "id": "2a6e4674",
   "metadata": {},
   "source": [
    "```\n",
    "tcgaggtgccgtaaagcactaaatcggaaccctaaagggagcccccgatttagagcttgacggggaaagccggcgaacgtggcgagaaaggaagggaagaaagcgaaaggagcgggcgctagggcgctggcaagtgtagcggtcacgctg\n",
    "```"
   ]
  },
  {
   "cell_type": "markdown",
   "id": "c509d472",
   "metadata": {},
   "source": [
    "Primer3 picked out the following sequence using the web interface. Used default parameters except only picked a left primer."
   ]
  },
  {
   "cell_type": "markdown",
   "id": "a5d74be1",
   "metadata": {},
   "source": [
    "```\n",
    "agggaagaaagcgaaaggag\n",
    "```"
   ]
  },
  {
   "cell_type": "markdown",
   "id": "edde1ab7",
   "metadata": {},
   "source": [
    "```\n",
    "No mispriming library specified\n",
    "Using 1-based sequence positions\n",
    "OLIGO            start  len      tm     gc%   any    3' seq \n",
    "LEFT_PRIMER         93   20   59.96   50.00  2.00  0.00 agggaagaaagcgaaaggag\n",
    "SEQUENCE SIZE: 150\n",
    "INCLUDED REGION SIZE: 150        49   20   59.82   45.00  4.00  0.00 tttagagcttgacggggaaa\n",
    "```"
   ]
  },
  {
   "cell_type": "markdown",
   "id": "f1f6f019",
   "metadata": {},
   "source": [
    "This is the primer I will use for the target in barcoded primers. Only one primer will need a barcode and so I selected fwd primer as the barcoded primer."
   ]
  },
  {
   "cell_type": "markdown",
   "id": "2f6f15bb",
   "metadata": {},
   "source": [
    "For the reverse primer I selected the region between 2000 and 2200 bp downstream of the pFC9VR1 construct. These region has the sequence below."
   ]
  },
  {
   "cell_type": "markdown",
   "id": "3efe815b",
   "metadata": {},
   "source": [
    "```\n",
    "tccgcctccatccagtctattaattgttgccgggaagctagagtaagtagttcgccagttaatagtttgcgcaacgttgttgccattgctacaggcatcgtggtgtcacgctcgtcgtttggtatggcttcattcagctccggttcccaacgatcaaggcgagttacatgatcccccatgttgtgaaaaaaagcggttag\n",
    "```"
   ]
  },
  {
   "cell_type": "markdown",
   "id": "ae0acff0",
   "metadata": {},
   "source": [
    "I then used the primer3 web interface to search for reverse primers in this region. Primer3 select this oligo as the best primer."
   ]
  },
  {
   "cell_type": "markdown",
   "id": "37255f08",
   "metadata": {},
   "source": [
    "```\n",
    "aagccataccaaacgacgag\n",
    "```"
   ]
  },
  {
   "cell_type": "markdown",
   "id": "3f4ca2f9",
   "metadata": {},
   "source": [
    "```\n",
    "No mispriming library specified\n",
    "Using 1-based sequence positions\n",
    "OLIGO            start  len      tm     gc%   any    3' seq \n",
    "RIGHT_PRIMER       130   20   60.13   50.00  3.00  0.00 aagccataccaaacgacgag\n",
    "SEQUENCE SIZE: 200\n",
    "INCLUDED REGION SIZE: 200\n",
    "```"
   ]
  },
  {
   "cell_type": "markdown",
   "id": "999e8977",
   "metadata": {},
   "source": [
    "In all cases primer3 was used `primer3 release 1.1.4` was the version used."
   ]
  }
 ],
 "metadata": {
  "kernelspec": {
   "display_name": "Python 3",
   "language": "python",
   "name": "python3"
  },
  "language_info": {
   "codemirror_mode": {
    "name": "ipython",
    "version": 3
   },
   "file_extension": ".py",
   "mimetype": "text/x-python",
   "name": "python",
   "nbconvert_exporter": "python",
   "pygments_lexer": "ipython3",
   "version": "3.9.6"
  }
 },
 "nbformat": 4,
 "nbformat_minor": 5
}
